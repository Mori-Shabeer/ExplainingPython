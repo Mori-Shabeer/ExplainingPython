{
 "cells": [
  {
   "cell_type": "markdown",
   "id": "281d1e56-ef48-4716-a153-0d0341debda8",
   "metadata": {},
   "source": [
    "# Introducing Pandas\n",
    "\n",
    "Pandas is a high level data manipulation package which was built on top of Numpy. The key structure within Pandas are Series and Data Frames\n"
   ]
  },
  {
   "cell_type": "markdown",
   "id": "9c48f6bf-01d6-47a6-9a35-eb2f0cdd03d4",
   "metadata": {},
   "source": [
    "## Series\n",
    "\n",
    "It is a 1 deminsiontal array with axis labels (an index)"
   ]
  },
  {
   "cell_type": "code",
   "execution_count": 4,
   "id": "15ab5fa1-ffec-48e2-91f2-ead6cafa475f",
   "metadata": {},
   "outputs": [],
   "source": [
    "# Importing libraries and packages\n",
    "\n",
    "import numpy as np\n",
    "import pandas as pd\n",
    "from pandas import Series, DataFrame"
   ]
  },
  {
   "cell_type": "code",
   "execution_count": 5,
   "id": "d537cb4f-1a60-4e57-9f5f-ffa7968d4698",
   "metadata": {},
   "outputs": [
    {
     "data": {
      "text/plain": [
       "0    10\n",
       "1    20\n",
       "2    30\n",
       "3    40\n",
       "4    50\n",
       "dtype: int64"
      ]
     },
     "execution_count": 5,
     "metadata": {},
     "output_type": "execute_result"
    }
   ],
   "source": [
    "# Creating a series from a list\n",
    "\n",
    "x = pd.Series([10,20,30,40,50])\n",
    "x"
   ]
  },
  {
   "cell_type": "code",
   "execution_count": 6,
   "id": "9c948005-b7af-4950-b66d-8c56fb8c9fcb",
   "metadata": {},
   "outputs": [
    {
     "data": {
      "text/plain": [
       "RangeIndex(start=0, stop=5, step=1)"
      ]
     },
     "execution_count": 6,
     "metadata": {},
     "output_type": "execute_result"
    }
   ],
   "source": [
    "# We can access different components separately\n",
    "\n",
    "# Accessing index\n",
    "x.index"
   ]
  },
  {
   "cell_type": "code",
   "execution_count": 7,
   "id": "e74c3caf-5541-4ba8-a5be-b14908091cc8",
   "metadata": {},
   "outputs": [
    {
     "data": {
      "text/plain": [
       "array([10, 20, 30, 40, 50])"
      ]
     },
     "execution_count": 7,
     "metadata": {},
     "output_type": "execute_result"
    }
   ],
   "source": [
    "# VALUES\n",
    "\n",
    "x.values"
   ]
  },
  {
   "cell_type": "code",
   "execution_count": 8,
   "id": "2c80f0c1-1703-4a47-b00e-187fb4e755f8",
   "metadata": {},
   "outputs": [
    {
     "data": {
      "text/plain": [
       "dtype('int64')"
      ]
     },
     "execution_count": 8,
     "metadata": {},
     "output_type": "execute_result"
    }
   ],
   "source": [
    "# Accessing the data type\n",
    "\n",
    "x.dtype"
   ]
  },
  {
   "cell_type": "code",
   "execution_count": 9,
   "id": "85ef989f-d61a-4c32-8587-117214ec0467",
   "metadata": {},
   "outputs": [],
   "source": [
    "# Creating a series with an Index\n",
    "\n",
    "data = [450,650,870]\n",
    "Sales = Series(data, index=[\"Don\", \"Mike\", \"Edwin\"])"
   ]
  },
  {
   "cell_type": "markdown",
   "id": "a90b540e-fb35-421f-b550-9f8545dce770",
   "metadata": {},
   "source": [
    "## Accessing values"
   ]
  },
  {
   "cell_type": "code",
   "execution_count": 13,
   "id": "c29a7599-f093-4fbf-b940-277376786932",
   "metadata": {},
   "outputs": [
    {
     "name": "stdout",
     "output_type": "stream",
     "text": [
      "450\n"
     ]
    }
   ],
   "source": [
    "# You can access values using the index name\n",
    "\n",
    "print(Sales[\"Don\"])"
   ]
  },
  {
   "cell_type": "code",
   "execution_count": 14,
   "id": "c6696ac9-78f7-4acc-87a1-c0e6a06ffbd0",
   "metadata": {},
   "outputs": [
    {
     "name": "stdout",
     "output_type": "stream",
     "text": [
      "450\n"
     ]
    },
    {
     "name": "stderr",
     "output_type": "stream",
     "text": [
      "/var/folders/fp/lp2kwtx901v315rw4sysdsx80000gp/T/ipykernel_56942/4165042025.py:1: FutureWarning: Series.__getitem__ treating keys as positions is deprecated. In a future version, integer keys will always be treated as labels (consistent with DataFrame behavior). To access a value by position, use `ser.iloc[pos]`\n",
      "  print(Sales[0])\n"
     ]
    }
   ],
   "source": [
    "print(Sales[0])"
   ]
  },
  {
   "cell_type": "markdown",
   "id": "5357c155-354b-4d29-8fbf-bb7fa73bb4e4",
   "metadata": {},
   "source": [
    "# Checking for conditions"
   ]
  },
  {
   "cell_type": "code",
   "execution_count": 15,
   "id": "c9f34109-3420-43d5-b015-7adfff650d1e",
   "metadata": {},
   "outputs": [
    {
     "data": {
      "text/plain": [
       "Don      False\n",
       "Mike      True\n",
       "Edwin     True\n",
       "dtype: bool"
      ]
     },
     "execution_count": 15,
     "metadata": {},
     "output_type": "execute_result"
    }
   ],
   "source": [
    "# You can filter by booleans\n",
    "Sales>500"
   ]
  },
  {
   "cell_type": "code",
   "execution_count": 16,
   "id": "590b6459-6c1f-4412-b4b4-cbfc2ac91363",
   "metadata": {},
   "outputs": [
    {
     "data": {
      "text/plain": [
       "Mike     650\n",
       "Edwin    870\n",
       "dtype: int64"
      ]
     },
     "execution_count": 16,
     "metadata": {},
     "output_type": "execute_result"
    }
   ],
   "source": [
    "Sales[[False, True, True]]"
   ]
  },
  {
   "cell_type": "code",
   "execution_count": 24,
   "id": "0ef1b4c7-d496-417b-9198-58524fc50015",
   "metadata": {},
   "outputs": [
    {
     "data": {
      "text/plain": [
       "Mike     650\n",
       "Edwin    870\n",
       "dtype: int64"
      ]
     },
     "execution_count": 24,
     "metadata": {},
     "output_type": "execute_result"
    }
   ],
   "source": [
    "# If we want to see values greater than 500\n",
    "\n",
    "Sales[Sales>500]"
   ]
  },
  {
   "cell_type": "code",
   "execution_count": 25,
   "id": "169badcb-1499-4c0f-bcf4-61a4bbe7bafd",
   "metadata": {},
   "outputs": [
    {
     "data": {
      "text/plain": [
       "True"
      ]
     },
     "execution_count": 25,
     "metadata": {},
     "output_type": "execute_result"
    }
   ],
   "source": [
    "\"Don\" in Sales"
   ]
  },
  {
   "cell_type": "code",
   "execution_count": 26,
   "id": "637ff8f7-fe28-4d97-8b5a-a2ff2b837e92",
   "metadata": {},
   "outputs": [
    {
     "data": {
      "text/plain": [
       "False"
      ]
     },
     "execution_count": 26,
     "metadata": {},
     "output_type": "execute_result"
    }
   ],
   "source": [
    "\"Sally\" in Sales"
   ]
  },
  {
   "cell_type": "code",
   "execution_count": 28,
   "id": "55392359-6b4b-4cc2-82cb-b4b23fab18cd",
   "metadata": {},
   "outputs": [
    {
     "data": {
      "text/plain": [
       "False"
      ]
     },
     "execution_count": 28,
     "metadata": {},
     "output_type": "execute_result"
    }
   ],
   "source": [
    "450 in Sales\n",
    "# 450 is not index, it's a value. Thus it will return false"
   ]
  },
  {
   "cell_type": "markdown",
   "id": "d7f72ff5-5a8d-4db6-aaac-b9354908085c",
   "metadata": {},
   "source": [
    "### Working with dictionaries"
   ]
  },
  {
   "cell_type": "code",
   "execution_count": 44,
   "id": "428aa569-9a22-41c6-973d-8d9350feffb0",
   "metadata": {},
   "outputs": [
    {
     "data": {
      "text/plain": [
       "{'Don': 450, 'Mike': 650, 'Edwin': 870}"
      ]
     },
     "execution_count": 44,
     "metadata": {},
     "output_type": "execute_result"
    }
   ],
   "source": [
    "# Coverting a series into a dictionary\n",
    "sales_dict = Sales.to_dict()\n",
    "sales_dict"
   ]
  },
  {
   "cell_type": "code",
   "execution_count": 31,
   "id": "232985eb-8e6e-47b5-97f4-8963dda9be40",
   "metadata": {},
   "outputs": [
    {
     "data": {
      "text/plain": [
       "Don      450\n",
       "Mike     650\n",
       "Edwin    870\n",
       "dtype: int64"
      ]
     },
     "execution_count": 31,
     "metadata": {},
     "output_type": "execute_result"
    }
   ],
   "source": [
    "# Convering a dict to a series\n",
    "\n",
    "sales_ser = Series(sales_dict)\n",
    "sales_ser"
   ]
  },
  {
   "cell_type": "code",
   "execution_count": 36,
   "id": "7b3e1799-1452-44fe-a7a8-c9940522fd09",
   "metadata": {},
   "outputs": [],
   "source": [
    "### Adding entries and working with Null Values"
   ]
  },
  {
   "cell_type": "code",
   "execution_count": 39,
   "id": "15b8022d-a139-4547-87a1-12585b68c2ea",
   "metadata": {},
   "outputs": [
    {
     "data": {
      "text/plain": [
       "Don      450.0\n",
       "Mike     650.0\n",
       "Sally      NaN\n",
       "Edwin    870.0\n",
       "Lucy       NaN\n",
       "dtype: float64"
      ]
     },
     "execution_count": 39,
     "metadata": {},
     "output_type": "execute_result"
    }
   ],
   "source": [
    "# We can create a new Series from existing Series\n",
    "# If we specify name in the index that were NOT already NaN Values will be assigned\n",
    "\n",
    "new_sales = Series(Sales, index=[\"Don\", \"Mike\", \"Sally\", \"Edwin\", \"Lucy\"])\n",
    "new_sales"
   ]
  },
  {
   "cell_type": "code",
   "execution_count": 40,
   "id": "ac80e185-beec-4cd2-a924-3c9a7b057281",
   "metadata": {},
   "outputs": [
    {
     "data": {
      "text/plain": [
       "<ufunc 'isnan'>"
      ]
     },
     "execution_count": 40,
     "metadata": {},
     "output_type": "execute_result"
    }
   ],
   "source": [
    "np.isnan"
   ]
  },
  {
   "cell_type": "code",
   "execution_count": 41,
   "id": "bb631986-e792-44e9-94ff-c2e197f348db",
   "metadata": {},
   "outputs": [
    {
     "data": {
      "text/plain": [
       "Don      False\n",
       "Mike     False\n",
       "Sally     True\n",
       "Edwin    False\n",
       "Lucy      True\n",
       "dtype: bool"
      ]
     },
     "execution_count": 41,
     "metadata": {},
     "output_type": "execute_result"
    }
   ],
   "source": [
    "pd.isnull(new_sales)"
   ]
  },
  {
   "cell_type": "code",
   "execution_count": 46,
   "id": "d7815b2b-4d4d-4bc9-8522-04acb9851eb0",
   "metadata": {},
   "outputs": [
    {
     "data": {
      "text/plain": [
       "Sales Person\n",
       "Don      450\n",
       "Mike     650\n",
       "Edwin    870\n",
       "Name: Total TV Sales, dtype: int64"
      ]
     },
     "execution_count": 46,
     "metadata": {},
     "output_type": "execute_result"
    }
   ],
   "source": [
    "Sales.index.name = \"Sales Person\"\n",
    "Sales"
   ]
  },
  {
   "cell_type": "code",
   "execution_count": 47,
   "id": "10aafe03-fd19-4bce-9a79-135dff5fc747",
   "metadata": {},
   "outputs": [
    {
     "data": {
      "text/plain": [
       "Sales Person\n",
       "Don      450\n",
       "Mike     650\n",
       "Edwin    870\n",
       "Name: Total TV Sales, dtype: int64"
      ]
     },
     "execution_count": 47,
     "metadata": {},
     "output_type": "execute_result"
    }
   ],
   "source": [
    "Sales.name = \"Total TV Sales\"\n",
    "Sales"
   ]
  },
  {
   "cell_type": "markdown",
   "id": "dede6f33-4dba-46ee-bd91-784c790d221c",
   "metadata": {},
   "source": [
    "## DataFrames\n",
    "\n",
    "DataFrames are two dimensional, size-mutable, potentionally hetrogeneous tabular data structures. This data structure contains TWO labeled axis (rows and the columns)"
   ]
  },
  {
   "cell_type": "code",
   "execution_count": 20,
   "id": "34ef987e-6051-42ee-8e89-e2857fc5362c",
   "metadata": {},
   "outputs": [
    {
     "name": "stdout",
     "output_type": "stream",
     "text": [
      "      Name  Age\n",
      "0   Adrian   20\n",
      "1  Bethany   23\n",
      "2    Chloe   41\n"
     ]
    }
   ],
   "source": [
    "# Creating a DataFrame from list\n",
    "data = [[\"Adrian\", 20], [\"Bethany\", 23], [\"Chloe\", 41]]\n",
    "\n",
    "# When we create a DataFrame, we can specify what column names are the data ttype\n",
    "df = pd.DataFrame(data, columns=[\"Name\", \"Age\"])\n",
    "\n",
    "print(df)"
   ]
  },
  {
   "cell_type": "markdown",
   "id": "5f58c316-28e9-4338-8949-c1d355cb3427",
   "metadata": {},
   "source": [
    "### Working with Dictionaries \n",
    "\n",
    "We will be looking out how we can create DataFrames from a dictionary in this top"
   ]
  },
  {
   "cell_type": "code",
   "execution_count": 19,
   "id": "8be8941b-8167-4b22-a871-6b3a2078a5fd",
   "metadata": {},
   "outputs": [
    {
     "name": "stdout",
     "output_type": "stream",
     "text": [
      "      Name  Age      City\n",
      "0    Alice   25  New York\n",
      "1      Bob   30    London\n",
      "2  Charlie   28     Paris\n"
     ]
    }
   ],
   "source": [
    "# Creating a dictionary with data for the DataFrame\n",
    "data = {'Name': ['Alice', 'Bob', 'Charlie'],\n",
    "        'Age': [25, 30, 28],\n",
    "        'City': ['New York', 'London', 'Paris']}\n",
    "\n",
    "# Create a DataFrame from the dictionary\n",
    "df = pd.DataFrame(data)\n",
    "\n",
    "# Print the DataFrame\n",
    "print(df)"
   ]
  },
  {
   "cell_type": "code",
   "execution_count": 23,
   "id": "7f9580b1-a9e5-403b-9040-457f05a77146",
   "metadata": {},
   "outputs": [
    {
     "name": "stdout",
     "output_type": "stream",
     "text": [
      "      Name  Age      City\n",
      "A    Alice   25  New York\n",
      "B      Bob   30    London\n",
      "C  Charlie   28     Paris\n"
     ]
    }
   ],
   "source": [
    "# Create a DataFrame from the dictionary with custom indexes\n",
    "df = pd.DataFrame(data, index=['A', 'B', 'C'])\n",
    "\n",
    "print(df)"
   ]
  },
  {
   "cell_type": "code",
   "execution_count": 22,
   "id": "67c46f7d-aae7-456d-9dbc-26359936a4b5",
   "metadata": {},
   "outputs": [
    {
     "name": "stdout",
     "output_type": "stream",
     "text": [
      "      Name  Age      City\n",
      "0    Alice   25  New York\n",
      "1      Bob   30    London\n",
      "2  Charlie   28     Paris\n"
     ]
    }
   ],
   "source": [
    "# Create a list of dictionaries with data for the DataFrame\n",
    "data = [{'Name': 'Alice', 'Age': 25, 'City': 'New York'},\n",
    "        {'Name': 'Bob', 'Age': 30, 'City': 'London'},\n",
    "        {'Name': 'Charlie', 'Age': 28, 'City': 'Paris'}]\n",
    "\n",
    "# Create a DataFrame from the list of dictionaries\n",
    "df = pd.DataFrame(data)\n",
    "\n",
    "print(df)"
   ]
  },
  {
   "cell_type": "code",
   "execution_count": 24,
   "id": "ec90d342-d7ef-407f-92b3-a3ce31df710e",
   "metadata": {},
   "outputs": [
    {
     "name": "stdout",
     "output_type": "stream",
     "text": [
      "         Age\n",
      "Alice     25\n",
      "Bob       30\n",
      "Charlie   28\n"
     ]
    }
   ],
   "source": [
    "# Create a pandas Series with data for the DataFrame\n",
    "ages = pd.Series([25, 30, 28], index=['Alice', 'Bob', 'Charlie'])\n",
    "\n",
    "# Create a DataFrame from the Series\n",
    "df = pd.DataFrame({'Age': ages})\n",
    "\n",
    "print(df)"
   ]
  },
  {
   "cell_type": "code",
   "execution_count": 25,
   "id": "7cbff0e1-d07c-4e47-aa32-f178b3636df3",
   "metadata": {},
   "outputs": [
    {
     "name": "stdout",
     "output_type": "stream",
     "text": [
      "         Age      City\n",
      "Alice     25  New York\n",
      "Bob       30    London\n",
      "Charlie   28     Paris\n"
     ]
    }
   ],
   "source": [
    "# Create a pandas Series with data for the new column\n",
    "cities = pd.Series(['New York', 'London', 'Paris'], index=['Alice', 'Bob', 'Charlie'])\n",
    "\n",
    "# Add the Series as a new column to the DataFrame\n",
    "df['City'] = cities\n",
    "\n",
    "print(df)"
   ]
  },
  {
   "cell_type": "code",
   "execution_count": 31,
   "id": "bc519896-3f8f-4581-9845-e5757f15acd1",
   "metadata": {},
   "outputs": [
    {
     "name": "stdout",
     "output_type": "stream",
     "text": [
      "          Age      City\n",
      "Alice     NaN      None\n",
      "Bob      25.0  New York\n",
      "Charlie  30.0    London\n"
     ]
    },
    {
     "ename": "KeyError",
     "evalue": "\"None of ['Name'] are in the columns\"",
     "output_type": "error",
     "traceback": [
      "\u001b[0;31m---------------------------------------------------------------------------\u001b[0m",
      "\u001b[0;31mKeyError\u001b[0m                                  Traceback (most recent call last)",
      "\u001b[0;32m/var/folders/fp/lp2kwtx901v315rw4sysdsx80000gp/T/ipykernel_56942/3334906508.py\u001b[0m in \u001b[0;36m?\u001b[0;34m()\u001b[0m\n\u001b[1;32m      4\u001b[0m \u001b[0;31m# Print the shifted DataFrame\u001b[0m\u001b[0;34m\u001b[0m\u001b[0;34m\u001b[0m\u001b[0m\n\u001b[1;32m      5\u001b[0m \u001b[0mprint\u001b[0m\u001b[0;34m(\u001b[0m\u001b[0mdf_shifted\u001b[0m\u001b[0;34m)\u001b[0m\u001b[0;34m\u001b[0m\u001b[0;34m\u001b[0m\u001b[0m\n\u001b[1;32m      6\u001b[0m \u001b[0;34m\u001b[0m\u001b[0m\n\u001b[1;32m      7\u001b[0m \u001b[0;31m# Set the 'Name' column as the new index\u001b[0m\u001b[0;34m\u001b[0m\u001b[0;34m\u001b[0m\u001b[0m\n\u001b[0;32m----> 8\u001b[0;31m \u001b[0mdf_indexed\u001b[0m \u001b[0;34m=\u001b[0m \u001b[0mdf\u001b[0m\u001b[0;34m.\u001b[0m\u001b[0mset_index\u001b[0m\u001b[0;34m(\u001b[0m\u001b[0;34m'Name'\u001b[0m\u001b[0;34m)\u001b[0m\u001b[0;34m\u001b[0m\u001b[0;34m\u001b[0m\u001b[0m\n\u001b[0m\u001b[1;32m      9\u001b[0m \u001b[0;34m\u001b[0m\u001b[0m\n\u001b[1;32m     10\u001b[0m \u001b[0;31m# Print the indexed DataFrame\u001b[0m\u001b[0;34m\u001b[0m\u001b[0;34m\u001b[0m\u001b[0m\n\u001b[1;32m     11\u001b[0m \u001b[0mprint\u001b[0m\u001b[0;34m(\u001b[0m\u001b[0mdf_indexed\u001b[0m\u001b[0;34m)\u001b[0m\u001b[0;34m\u001b[0m\u001b[0;34m\u001b[0m\u001b[0m\n",
      "\u001b[0;32m~/PycharmProjects/PythonPractise/.venv/lib/python3.13/site-packages/pandas/core/frame.py\u001b[0m in \u001b[0;36m?\u001b[0;34m(self, keys, drop, append, inplace, verify_integrity)\u001b[0m\n\u001b[1;32m   6118\u001b[0m                     \u001b[0;32mif\u001b[0m \u001b[0;32mnot\u001b[0m \u001b[0mfound\u001b[0m\u001b[0;34m:\u001b[0m\u001b[0;34m\u001b[0m\u001b[0;34m\u001b[0m\u001b[0m\n\u001b[1;32m   6119\u001b[0m                         \u001b[0mmissing\u001b[0m\u001b[0;34m.\u001b[0m\u001b[0mappend\u001b[0m\u001b[0;34m(\u001b[0m\u001b[0mcol\u001b[0m\u001b[0;34m)\u001b[0m\u001b[0;34m\u001b[0m\u001b[0;34m\u001b[0m\u001b[0m\n\u001b[1;32m   6120\u001b[0m \u001b[0;34m\u001b[0m\u001b[0m\n\u001b[1;32m   6121\u001b[0m         \u001b[0;32mif\u001b[0m \u001b[0mmissing\u001b[0m\u001b[0;34m:\u001b[0m\u001b[0;34m\u001b[0m\u001b[0;34m\u001b[0m\u001b[0m\n\u001b[0;32m-> 6122\u001b[0;31m             \u001b[0;32mraise\u001b[0m \u001b[0mKeyError\u001b[0m\u001b[0;34m(\u001b[0m\u001b[0;34mf\"\u001b[0m\u001b[0;34mNone of \u001b[0m\u001b[0;34m{\u001b[0m\u001b[0mmissing\u001b[0m\u001b[0;34m}\u001b[0m\u001b[0;34m are in the columns\u001b[0m\u001b[0;34m\"\u001b[0m\u001b[0;34m)\u001b[0m\u001b[0;34m\u001b[0m\u001b[0;34m\u001b[0m\u001b[0m\n\u001b[0m\u001b[1;32m   6123\u001b[0m \u001b[0;34m\u001b[0m\u001b[0m\n\u001b[1;32m   6124\u001b[0m         \u001b[0;32mif\u001b[0m \u001b[0minplace\u001b[0m\u001b[0;34m:\u001b[0m\u001b[0;34m\u001b[0m\u001b[0;34m\u001b[0m\u001b[0m\n\u001b[1;32m   6125\u001b[0m             \u001b[0mframe\u001b[0m \u001b[0;34m=\u001b[0m \u001b[0mself\u001b[0m\u001b[0;34m\u001b[0m\u001b[0;34m\u001b[0m\u001b[0m\n",
      "\u001b[0;31mKeyError\u001b[0m: \"None of ['Name'] are in the columns\""
     ]
    }
   ],
   "source": [
    "# Shift index down by one position\n",
    "df_shifted = df.shift(1)\n",
    "\n",
    "# Print the shifted DataFrame\n",
    "print(df_shifted)\n",
    "\n",
    "# Set the 'Name' column as the new index\n",
    "df_indexed = df.set_index('Name')\n",
    "\n",
    "# Print the indexed DataFrame\n",
    "print(df_indexed)"
   ]
  },
  {
   "cell_type": "code",
   "execution_count": 32,
   "id": "9644347b-6a47-4a40-9129-3afd7f359924",
   "metadata": {},
   "outputs": [
    {
     "name": "stdout",
     "output_type": "stream",
     "text": [
      "         Age      City\n",
      "Alice     25  New York\n",
      "Bob       30    London\n",
      "Charlie   28     Paris\n"
     ]
    }
   ],
   "source": [
    "# Fill all NaN values with 0\n",
    "df_filled = df.fillna(0)\n",
    "\n",
    "# Print the filled DataFrame\n",
    "print(df_filled)"
   ]
  },
  {
   "cell_type": "markdown",
   "id": "dac93480-3bba-47bd-a137-2b78b02f08a8",
   "metadata": {},
   "source": [
    "### Filling Missing Values with Different Strategies"
   ]
  },
  {
   "cell_type": "markdown",
   "id": "9436efd3-501b-40a0-8755-95c7ed0c24ce",
   "metadata": {},
   "source": [
    "#### Using backfill(bfill)"
   ]
  },
  {
   "cell_type": "code",
   "execution_count": 33,
   "id": "d1b53500-b3a9-4147-a1e9-ad3e9fc011e8",
   "metadata": {},
   "outputs": [
    {
     "name": "stdout",
     "output_type": "stream",
     "text": [
      "         Age      City\n",
      "Alice     25  New York\n",
      "Bob       30    London\n",
      "Charlie   28     Paris\n"
     ]
    },
    {
     "name": "stderr",
     "output_type": "stream",
     "text": [
      "/var/folders/fp/lp2kwtx901v315rw4sysdsx80000gp/T/ipykernel_56942/1356690449.py:2: FutureWarning: DataFrame.fillna with 'method' is deprecated and will raise in a future version. Use obj.ffill() or obj.bfill() instead.\n",
      "  df_backfill = df.fillna(method='backfill')\n"
     ]
    }
   ],
   "source": [
    "# Fill NaN values using backfill method\n",
    "df_backfill = df.fillna(method='backfill')\n",
    "\n",
    "# Print the backfilled DataFrame\n",
    "print(df_backfill)"
   ]
  },
  {
   "cell_type": "code",
   "execution_count": 34,
   "id": "c58e0f18-3e5c-4719-a1dd-956ecbe57192",
   "metadata": {},
   "outputs": [
    {
     "name": "stdout",
     "output_type": "stream",
     "text": [
      "         Age      City\n",
      "Alice     25  New York\n",
      "Bob       30    London\n",
      "Charlie   28     Paris\n"
     ]
    },
    {
     "name": "stderr",
     "output_type": "stream",
     "text": [
      "/var/folders/fp/lp2kwtx901v315rw4sysdsx80000gp/T/ipykernel_56942/754982780.py:2: FutureWarning: DataFrame.fillna with 'method' is deprecated and will raise in a future version. Use obj.ffill() or obj.bfill() instead.\n",
      "  df_bfill = df.fillna(method='bfill')\n"
     ]
    }
   ],
   "source": [
    "# Instead of typing out backfill it is better practise to shorthand it to bfill\n",
    "df_bfill = df.fillna(method='bfill')\n",
    "\n",
    "# Print the backfilled DataFrame\n",
    "print(df_bfill)"
   ]
  },
  {
   "cell_type": "markdown",
   "id": "4c7c9d21-6be9-4f38-b49b-9f28189da105",
   "metadata": {},
   "source": [
    "#### Using Pad"
   ]
  },
  {
   "cell_type": "code",
   "execution_count": 36,
   "id": "610d0c87-5a7d-4463-b0a2-f7924acbcd94",
   "metadata": {},
   "outputs": [
    {
     "name": "stdout",
     "output_type": "stream",
     "text": [
      "         Age      City\n",
      "Alice     25  New York\n",
      "Bob       30    London\n",
      "Charlie   28     Paris\n"
     ]
    },
    {
     "name": "stderr",
     "output_type": "stream",
     "text": [
      "/var/folders/fp/lp2kwtx901v315rw4sysdsx80000gp/T/ipykernel_56942/1178891250.py:2: FutureWarning: DataFrame.fillna with 'method' is deprecated and will raise in a future version. Use obj.ffill() or obj.bfill() instead.\n",
      "  df_pad = df.fillna(method='pad')\n"
     ]
    }
   ],
   "source": [
    "# Fill NaN values using pad method\n",
    "df_pad = df.fillna(method='pad')\n",
    "\n",
    "# Print the padded DataFrame\n",
    "print(df_pad)"
   ]
  },
  {
   "cell_type": "markdown",
   "id": "e624b1f4-b71d-4784-8a93-2e3122bb8cae",
   "metadata": {},
   "source": [
    "#### Using Forward Fill (ffill)"
   ]
  },
  {
   "cell_type": "code",
   "execution_count": 37,
   "id": "87a80699-7dff-4242-a0e0-99e724e36cdf",
   "metadata": {},
   "outputs": [
    {
     "name": "stdout",
     "output_type": "stream",
     "text": [
      "         Age      City\n",
      "Alice     25  New York\n",
      "Bob       30    London\n",
      "Charlie   28     Paris\n"
     ]
    },
    {
     "name": "stderr",
     "output_type": "stream",
     "text": [
      "/var/folders/fp/lp2kwtx901v315rw4sysdsx80000gp/T/ipykernel_56942/1396356901.py:2: FutureWarning: DataFrame.fillna with 'method' is deprecated and will raise in a future version. Use obj.ffill() or obj.bfill() instead.\n",
      "  df_ffill = df.fillna(method='ffill')\n"
     ]
    }
   ],
   "source": [
    "# Fill NaN values using forward fill method\n",
    "df_ffill = df.fillna(method='ffill')\n",
    "\n",
    "# Print the forward filled DataFrame\n",
    "print(df_ffill)"
   ]
  },
  {
   "cell_type": "markdown",
   "id": "d5f05768-4083-4643-b00b-67481f67f61d",
   "metadata": {},
   "source": [
    "### Interpolation"
   ]
  },
  {
   "cell_type": "code",
   "execution_count": 39,
   "id": "b5cb9948-23ef-4b3d-8139-6710c182911a",
   "metadata": {},
   "outputs": [
    {
     "name": "stdout",
     "output_type": "stream",
     "text": [
      "         Age      City\n",
      "Alice     25  New York\n",
      "Bob       30    London\n",
      "Charlie   28     Paris\n"
     ]
    },
    {
     "name": "stderr",
     "output_type": "stream",
     "text": [
      "/var/folders/fp/lp2kwtx901v315rw4sysdsx80000gp/T/ipykernel_56942/3789248759.py:2: FutureWarning: DataFrame.interpolate with object dtype is deprecated and will raise in a future version. Call obj.infer_objects(copy=False) before interpolating instead.\n",
      "  df_interpolated = df.interpolate()\n"
     ]
    }
   ],
   "source": [
    "# Interpolate missing values\n",
    "df_interpolated = df.interpolate()\n",
    "\n",
    "# Print the interpolated DataFrame\n",
    "print(df_interpolated)"
   ]
  },
  {
   "cell_type": "markdown",
   "id": "da9244b6-c01a-4908-ba3e-f895f3015f07",
   "metadata": {},
   "source": [
    "### How to drop within a DataFrame\n",
    "\n",
    "We will be looking at how we can drop Nan Values, Rows, Columns, based on a threshold or based on an index"
   ]
  },
  {
   "cell_type": "markdown",
   "id": "93a70528-d4d8-47b1-9cf3-d899773c0764",
   "metadata": {},
   "source": [
    "#### Dropping based on value"
   ]
  },
  {
   "cell_type": "code",
   "execution_count": 46,
   "id": "28c894ad-bdcc-46ef-9e4d-e4fc5d1ebe9e",
   "metadata": {},
   "outputs": [
    {
     "name": "stdout",
     "output_type": "stream",
     "text": [
      "      Name   Age      City   Salary\n",
      "0    Alice  25.0  New York  50000.0\n",
      "1      Bob  30.0       NaN  60000.0\n",
      "2  Charlie   NaN     Paris  75000.0\n",
      "3    David  28.0    London      NaN\n"
     ]
    }
   ],
   "source": [
    "# Creating a DataFrame with Nan Values\n",
    "data = {'Name': ['Alice', 'Bob', 'Charlie', 'David'],\n",
    "        'Age': [25, 30, np.nan, 28],\n",
    "        'City': ['New York', np.nan, 'Paris', 'London'],\n",
    "        'Salary': [50000, 60000, 75000, np.nan]}\n",
    "\n",
    "df = pd.DataFrame(data)\n",
    "print(df)"
   ]
  },
  {
   "cell_type": "markdown",
   "id": "db7d81a5-d4d8-4eae-944b-9ddd498d2819",
   "metadata": {},
   "source": [
    "#### Dropping by Rows"
   ]
  },
  {
   "cell_type": "code",
   "execution_count": 52,
   "id": "9c396230-044d-45a9-ba2b-65e92504cd3d",
   "metadata": {},
   "outputs": [
    {
     "name": "stdout",
     "output_type": "stream",
     "text": [
      "    Name   Age      City   Salary\n",
      "0  Alice  25.0  New York  50000.0\n"
     ]
    }
   ],
   "source": [
    "# Drop rows with any NaN values\n",
    "df_dropna_rows = df.dropna()\n",
    "\n",
    "# Print the DataFrame with dropped rows\n",
    "print(df_dropna_rows)"
   ]
  },
  {
   "cell_type": "markdown",
   "id": "2b7bccca-3285-40a3-a9bc-57da130753ba",
   "metadata": {},
   "source": [
    "#### Dropping by Columns"
   ]
  },
  {
   "cell_type": "code",
   "execution_count": 50,
   "id": "bda864d5-5369-4f60-9aae-750d5f4a4490",
   "metadata": {},
   "outputs": [
    {
     "name": "stdout",
     "output_type": "stream",
     "text": [
      "      Name\n",
      "0    Alice\n",
      "1      Bob\n",
      "2  Charlie\n",
      "3    David\n"
     ]
    }
   ],
   "source": [
    "# Drop rows with any NaN values\n",
    "df_dropna_columns = df.dropna(axis=1)\n",
    "\n",
    "# Print the DataFrame with dropped rows\n",
    "print(df_dropna_columns)"
   ]
  },
  {
   "cell_type": "markdown",
   "id": "b32e1368-cdd6-4a8d-8a14-538c7d2cc069",
   "metadata": {},
   "source": [
    "#### Drop Based on a Threshold of Non-NA Values"
   ]
  },
  {
   "cell_type": "code",
   "execution_count": 48,
   "id": "ffec4d38-5b12-408e-bdfd-06ea482c1ade",
   "metadata": {},
   "outputs": [
    {
     "data": {
      "text/html": [
       "<div>\n",
       "<style scoped>\n",
       "    .dataframe tbody tr th:only-of-type {\n",
       "        vertical-align: middle;\n",
       "    }\n",
       "\n",
       "    .dataframe tbody tr th {\n",
       "        vertical-align: top;\n",
       "    }\n",
       "\n",
       "    .dataframe thead th {\n",
       "        text-align: right;\n",
       "    }\n",
       "</style>\n",
       "<table border=\"1\" class=\"dataframe\">\n",
       "  <thead>\n",
       "    <tr style=\"text-align: right;\">\n",
       "      <th></th>\n",
       "      <th>Name</th>\n",
       "      <th>Age</th>\n",
       "      <th>City</th>\n",
       "      <th>Salary</th>\n",
       "    </tr>\n",
       "  </thead>\n",
       "  <tbody>\n",
       "    <tr>\n",
       "      <th>0</th>\n",
       "      <td>Alice</td>\n",
       "      <td>25.0</td>\n",
       "      <td>New York</td>\n",
       "      <td>50000.0</td>\n",
       "    </tr>\n",
       "    <tr>\n",
       "      <th>1</th>\n",
       "      <td>Bob</td>\n",
       "      <td>30.0</td>\n",
       "      <td>NaN</td>\n",
       "      <td>60000.0</td>\n",
       "    </tr>\n",
       "    <tr>\n",
       "      <th>2</th>\n",
       "      <td>Charlie</td>\n",
       "      <td>NaN</td>\n",
       "      <td>Paris</td>\n",
       "      <td>75000.0</td>\n",
       "    </tr>\n",
       "    <tr>\n",
       "      <th>3</th>\n",
       "      <td>David</td>\n",
       "      <td>28.0</td>\n",
       "      <td>London</td>\n",
       "      <td>NaN</td>\n",
       "    </tr>\n",
       "  </tbody>\n",
       "</table>\n",
       "</div>"
      ],
      "text/plain": [
       "      Name   Age      City   Salary\n",
       "0    Alice  25.0  New York  50000.0\n",
       "1      Bob  30.0       NaN  60000.0\n",
       "2  Charlie   NaN     Paris  75000.0\n",
       "3    David  28.0    London      NaN"
      ]
     },
     "execution_count": 48,
     "metadata": {},
     "output_type": "execute_result"
    }
   ],
   "source": [
    "# Drop rows with less than 2 non-NA values\n",
    "df.dropna(thresh=2)\n",
    "# As you can see anything under 2 Nan Values is being displayed"
   ]
  },
  {
   "cell_type": "markdown",
   "id": "748584cd-a0ae-4c70-84df-476c0ca34ef6",
   "metadata": {},
   "source": [
    "#### Drop Based on Index"
   ]
  },
  {
   "cell_type": "code",
   "execution_count": 59,
   "id": "9a1e77ae-f95d-4b93-adc1-1ef904853e1e",
   "metadata": {},
   "outputs": [
    {
     "data": {
      "text/html": [
       "<div>\n",
       "<style scoped>\n",
       "    .dataframe tbody tr th:only-of-type {\n",
       "        vertical-align: middle;\n",
       "    }\n",
       "\n",
       "    .dataframe tbody tr th {\n",
       "        vertical-align: top;\n",
       "    }\n",
       "\n",
       "    .dataframe thead th {\n",
       "        text-align: right;\n",
       "    }\n",
       "</style>\n",
       "<table border=\"1\" class=\"dataframe\">\n",
       "  <thead>\n",
       "    <tr style=\"text-align: right;\">\n",
       "      <th></th>\n",
       "      <th>Name</th>\n",
       "      <th>Age</th>\n",
       "      <th>City</th>\n",
       "      <th>Salary</th>\n",
       "    </tr>\n",
       "  </thead>\n",
       "  <tbody>\n",
       "    <tr>\n",
       "      <th>0</th>\n",
       "      <td>Alice</td>\n",
       "      <td>25.0</td>\n",
       "      <td>New York</td>\n",
       "      <td>50000.0</td>\n",
       "    </tr>\n",
       "    <tr>\n",
       "      <th>2</th>\n",
       "      <td>Charlie</td>\n",
       "      <td>NaN</td>\n",
       "      <td>Paris</td>\n",
       "      <td>75000.0</td>\n",
       "    </tr>\n",
       "  </tbody>\n",
       "</table>\n",
       "</div>"
      ],
      "text/plain": [
       "      Name   Age      City   Salary\n",
       "0    Alice  25.0  New York  50000.0\n",
       "2  Charlie   NaN     Paris  75000.0"
      ]
     },
     "execution_count": 59,
     "metadata": {},
     "output_type": "execute_result"
    }
   ],
   "source": [
    "# Drop rows with labels '1' and '3'\n",
    "df.drop(df.index[[1, 3]])"
   ]
  },
  {
   "cell_type": "code",
   "execution_count": null,
   "id": "45dfe567-eff4-460a-80c5-262a6625fc25",
   "metadata": {},
   "outputs": [],
   "source": []
  }
 ],
 "metadata": {
  "kernelspec": {
   "display_name": "Python 3 (ipykernel)",
   "language": "python",
   "name": "python3"
  },
  "language_info": {
   "codemirror_mode": {
    "name": "ipython",
    "version": 3
   },
   "file_extension": ".py",
   "mimetype": "text/x-python",
   "name": "python",
   "nbconvert_exporter": "python",
   "pygments_lexer": "ipython3",
   "version": "3.13.1"
  }
 },
 "nbformat": 4,
 "nbformat_minor": 5
}
